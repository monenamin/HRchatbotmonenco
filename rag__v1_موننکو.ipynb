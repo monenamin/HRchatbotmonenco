{
 "cells": [
  {
   "cell_type": "code",
   "execution_count": null,
   "metadata": {
    "colab": {
     "base_uri": "https://localhost:8080/"
    },
    "id": "J251HHbIrz40",
    "outputId": "6c18e835-ff99-42ee-a2eb-39068da6bb29"
   },
   "outputs": [
    {
     "name": "stdout",
     "output_type": "stream",
     "text": [
      "Requirement already satisfied: langchain==0.1.20 in /usr/local/lib/python3.10/dist-packages (0.1.20)\n",
      "Requirement already satisfied: PyYAML>=5.3 in /usr/local/lib/python3.10/dist-packages (from langchain==0.1.20) (6.0.1)\n",
      "Requirement already satisfied: SQLAlchemy<3,>=1.4 in /usr/local/lib/python3.10/dist-packages (from langchain==0.1.20) (2.0.31)\n",
      "Requirement already satisfied: aiohttp<4.0.0,>=3.8.3 in /usr/local/lib/python3.10/dist-packages (from langchain==0.1.20) (3.9.5)\n",
      "Requirement already satisfied: async-timeout<5.0.0,>=4.0.0 in /usr/local/lib/python3.10/dist-packages (from langchain==0.1.20) (4.0.3)\n",
      "Requirement already satisfied: dataclasses-json<0.7,>=0.5.7 in /usr/local/lib/python3.10/dist-packages (from langchain==0.1.20) (0.6.7)\n",
      "Requirement already satisfied: langchain-community<0.1,>=0.0.38 in /usr/local/lib/python3.10/dist-packages (from langchain==0.1.20) (0.0.38)\n",
      "Requirement already satisfied: langchain-core<0.2.0,>=0.1.52 in /usr/local/lib/python3.10/dist-packages (from langchain==0.1.20) (0.1.52)\n",
      "Requirement already satisfied: langchain-text-splitters<0.1,>=0.0.1 in /usr/local/lib/python3.10/dist-packages (from langchain==0.1.20) (0.0.1)\n",
      "Requirement already satisfied: langsmith<0.2.0,>=0.1.17 in /usr/local/lib/python3.10/dist-packages (from langchain==0.1.20) (0.1.82)\n",
      "Requirement already satisfied: numpy<2,>=1 in /usr/local/lib/python3.10/dist-packages (from langchain==0.1.20) (1.25.2)\n",
      "Requirement already satisfied: pydantic<3,>=1 in /usr/local/lib/python3.10/dist-packages (from langchain==0.1.20) (2.7.4)\n",
      "Requirement already satisfied: requests<3,>=2 in /usr/local/lib/python3.10/dist-packages (from langchain==0.1.20) (2.31.0)\n",
      "Requirement already satisfied: tenacity<9.0.0,>=8.1.0 in /usr/local/lib/python3.10/dist-packages (from langchain==0.1.20) (8.4.1)\n",
      "Requirement already satisfied: aiosignal>=1.1.2 in /usr/local/lib/python3.10/dist-packages (from aiohttp<4.0.0,>=3.8.3->langchain==0.1.20) (1.3.1)\n",
      "Requirement already satisfied: attrs>=17.3.0 in /usr/local/lib/python3.10/dist-packages (from aiohttp<4.0.0,>=3.8.3->langchain==0.1.20) (23.2.0)\n",
      "Requirement already satisfied: frozenlist>=1.1.1 in /usr/local/lib/python3.10/dist-packages (from aiohttp<4.0.0,>=3.8.3->langchain==0.1.20) (1.4.1)\n",
      "Requirement already satisfied: multidict<7.0,>=4.5 in /usr/local/lib/python3.10/dist-packages (from aiohttp<4.0.0,>=3.8.3->langchain==0.1.20) (6.0.5)\n",
      "Requirement already satisfied: yarl<2.0,>=1.0 in /usr/local/lib/python3.10/dist-packages (from aiohttp<4.0.0,>=3.8.3->langchain==0.1.20) (1.9.4)\n",
      "Requirement already satisfied: marshmallow<4.0.0,>=3.18.0 in /usr/local/lib/python3.10/dist-packages (from dataclasses-json<0.7,>=0.5.7->langchain==0.1.20) (3.21.3)\n",
      "Requirement already satisfied: typing-inspect<1,>=0.4.0 in /usr/local/lib/python3.10/dist-packages (from dataclasses-json<0.7,>=0.5.7->langchain==0.1.20) (0.9.0)\n",
      "Requirement already satisfied: jsonpatch<2.0,>=1.33 in /usr/local/lib/python3.10/dist-packages (from langchain-core<0.2.0,>=0.1.52->langchain==0.1.20) (1.33)\n",
      "Requirement already satisfied: packaging<24.0,>=23.2 in /usr/local/lib/python3.10/dist-packages (from langchain-core<0.2.0,>=0.1.52->langchain==0.1.20) (23.2)\n",
      "Requirement already satisfied: orjson<4.0.0,>=3.9.14 in /usr/local/lib/python3.10/dist-packages (from langsmith<0.2.0,>=0.1.17->langchain==0.1.20) (3.10.5)\n",
      "Requirement already satisfied: annotated-types>=0.4.0 in /usr/local/lib/python3.10/dist-packages (from pydantic<3,>=1->langchain==0.1.20) (0.7.0)\n",
      "Requirement already satisfied: pydantic-core==2.18.4 in /usr/local/lib/python3.10/dist-packages (from pydantic<3,>=1->langchain==0.1.20) (2.18.4)\n",
      "Requirement already satisfied: typing-extensions>=4.6.1 in /usr/local/lib/python3.10/dist-packages (from pydantic<3,>=1->langchain==0.1.20) (4.12.2)\n",
      "Requirement already satisfied: charset-normalizer<4,>=2 in /usr/local/lib/python3.10/dist-packages (from requests<3,>=2->langchain==0.1.20) (3.3.2)\n",
      "Requirement already satisfied: idna<4,>=2.5 in /usr/local/lib/python3.10/dist-packages (from requests<3,>=2->langchain==0.1.20) (3.7)\n",
      "Requirement already satisfied: urllib3<3,>=1.21.1 in /usr/local/lib/python3.10/dist-packages (from requests<3,>=2->langchain==0.1.20) (2.0.7)\n",
      "Requirement already satisfied: certifi>=2017.4.17 in /usr/local/lib/python3.10/dist-packages (from requests<3,>=2->langchain==0.1.20) (2024.6.2)\n",
      "Requirement already satisfied: greenlet!=0.4.17 in /usr/local/lib/python3.10/dist-packages (from SQLAlchemy<3,>=1.4->langchain==0.1.20) (3.0.3)\n",
      "Requirement already satisfied: jsonpointer>=1.9 in /usr/local/lib/python3.10/dist-packages (from jsonpatch<2.0,>=1.33->langchain-core<0.2.0,>=0.1.52->langchain==0.1.20) (3.0.0)\n",
      "Requirement already satisfied: mypy-extensions>=0.3.0 in /usr/local/lib/python3.10/dist-packages (from typing-inspect<1,>=0.4.0->dataclasses-json<0.7,>=0.5.7->langchain==0.1.20) (1.0.0)\n",
      "Requirement already satisfied: langchain_community==0.0.38 in /usr/local/lib/python3.10/dist-packages (0.0.38)\n",
      "Requirement already satisfied: PyYAML>=5.3 in /usr/local/lib/python3.10/dist-packages (from langchain_community==0.0.38) (6.0.1)\n",
      "Requirement already satisfied: SQLAlchemy<3,>=1.4 in /usr/local/lib/python3.10/dist-packages (from langchain_community==0.0.38) (2.0.31)\n",
      "Requirement already satisfied: aiohttp<4.0.0,>=3.8.3 in /usr/local/lib/python3.10/dist-packages (from langchain_community==0.0.38) (3.9.5)\n",
      "Requirement already satisfied: dataclasses-json<0.7,>=0.5.7 in /usr/local/lib/python3.10/dist-packages (from langchain_community==0.0.38) (0.6.7)\n",
      "Requirement already satisfied: langchain-core<0.2.0,>=0.1.52 in /usr/local/lib/python3.10/dist-packages (from langchain_community==0.0.38) (0.1.52)\n",
      "Requirement already satisfied: langsmith<0.2.0,>=0.1.0 in /usr/local/lib/python3.10/dist-packages (from langchain_community==0.0.38) (0.1.82)\n",
      "Requirement already satisfied: numpy<2,>=1 in /usr/local/lib/python3.10/dist-packages (from langchain_community==0.0.38) (1.25.2)\n",
      "Requirement already satisfied: requests<3,>=2 in /usr/local/lib/python3.10/dist-packages (from langchain_community==0.0.38) (2.31.0)\n",
      "Requirement already satisfied: tenacity<9.0.0,>=8.1.0 in /usr/local/lib/python3.10/dist-packages (from langchain_community==0.0.38) (8.4.1)\n",
      "Requirement already satisfied: aiosignal>=1.1.2 in /usr/local/lib/python3.10/dist-packages (from aiohttp<4.0.0,>=3.8.3->langchain_community==0.0.38) (1.3.1)\n",
      "Requirement already satisfied: attrs>=17.3.0 in /usr/local/lib/python3.10/dist-packages (from aiohttp<4.0.0,>=3.8.3->langchain_community==0.0.38) (23.2.0)\n",
      "Requirement already satisfied: frozenlist>=1.1.1 in /usr/local/lib/python3.10/dist-packages (from aiohttp<4.0.0,>=3.8.3->langchain_community==0.0.38) (1.4.1)\n",
      "Requirement already satisfied: multidict<7.0,>=4.5 in /usr/local/lib/python3.10/dist-packages (from aiohttp<4.0.0,>=3.8.3->langchain_community==0.0.38) (6.0.5)\n",
      "Requirement already satisfied: yarl<2.0,>=1.0 in /usr/local/lib/python3.10/dist-packages (from aiohttp<4.0.0,>=3.8.3->langchain_community==0.0.38) (1.9.4)\n",
      "Requirement already satisfied: async-timeout<5.0,>=4.0 in /usr/local/lib/python3.10/dist-packages (from aiohttp<4.0.0,>=3.8.3->langchain_community==0.0.38) (4.0.3)\n",
      "Requirement already satisfied: marshmallow<4.0.0,>=3.18.0 in /usr/local/lib/python3.10/dist-packages (from dataclasses-json<0.7,>=0.5.7->langchain_community==0.0.38) (3.21.3)\n",
      "Requirement already satisfied: typing-inspect<1,>=0.4.0 in /usr/local/lib/python3.10/dist-packages (from dataclasses-json<0.7,>=0.5.7->langchain_community==0.0.38) (0.9.0)\n",
      "Requirement already satisfied: jsonpatch<2.0,>=1.33 in /usr/local/lib/python3.10/dist-packages (from langchain-core<0.2.0,>=0.1.52->langchain_community==0.0.38) (1.33)\n",
      "Requirement already satisfied: packaging<24.0,>=23.2 in /usr/local/lib/python3.10/dist-packages (from langchain-core<0.2.0,>=0.1.52->langchain_community==0.0.38) (23.2)\n",
      "Requirement already satisfied: pydantic<3,>=1 in /usr/local/lib/python3.10/dist-packages (from langchain-core<0.2.0,>=0.1.52->langchain_community==0.0.38) (2.7.4)\n",
      "Requirement already satisfied: orjson<4.0.0,>=3.9.14 in /usr/local/lib/python3.10/dist-packages (from langsmith<0.2.0,>=0.1.0->langchain_community==0.0.38) (3.10.5)\n",
      "Requirement already satisfied: charset-normalizer<4,>=2 in /usr/local/lib/python3.10/dist-packages (from requests<3,>=2->langchain_community==0.0.38) (3.3.2)\n",
      "Requirement already satisfied: idna<4,>=2.5 in /usr/local/lib/python3.10/dist-packages (from requests<3,>=2->langchain_community==0.0.38) (3.7)\n",
      "Requirement already satisfied: urllib3<3,>=1.21.1 in /usr/local/lib/python3.10/dist-packages (from requests<3,>=2->langchain_community==0.0.38) (2.0.7)\n",
      "Requirement already satisfied: certifi>=2017.4.17 in /usr/local/lib/python3.10/dist-packages (from requests<3,>=2->langchain_community==0.0.38) (2024.6.2)\n",
      "Requirement already satisfied: typing-extensions>=4.6.0 in /usr/local/lib/python3.10/dist-packages (from SQLAlchemy<3,>=1.4->langchain_community==0.0.38) (4.12.2)\n",
      "Requirement already satisfied: greenlet!=0.4.17 in /usr/local/lib/python3.10/dist-packages (from SQLAlchemy<3,>=1.4->langchain_community==0.0.38) (3.0.3)\n",
      "Requirement already satisfied: jsonpointer>=1.9 in /usr/local/lib/python3.10/dist-packages (from jsonpatch<2.0,>=1.33->langchain-core<0.2.0,>=0.1.52->langchain_community==0.0.38) (3.0.0)\n",
      "Requirement already satisfied: annotated-types>=0.4.0 in /usr/local/lib/python3.10/dist-packages (from pydantic<3,>=1->langchain-core<0.2.0,>=0.1.52->langchain_community==0.0.38) (0.7.0)\n",
      "Requirement already satisfied: pydantic-core==2.18.4 in /usr/local/lib/python3.10/dist-packages (from pydantic<3,>=1->langchain-core<0.2.0,>=0.1.52->langchain_community==0.0.38) (2.18.4)\n",
      "Requirement already satisfied: mypy-extensions>=0.3.0 in /usr/local/lib/python3.10/dist-packages (from typing-inspect<1,>=0.4.0->dataclasses-json<0.7,>=0.5.7->langchain_community==0.0.38) (1.0.0)\n",
      "Requirement already satisfied: langchain_core==0.1.52 in /usr/local/lib/python3.10/dist-packages (0.1.52)\n",
      "Requirement already satisfied: PyYAML>=5.3 in /usr/local/lib/python3.10/dist-packages (from langchain_core==0.1.52) (6.0.1)\n",
      "Requirement already satisfied: jsonpatch<2.0,>=1.33 in /usr/local/lib/python3.10/dist-packages (from langchain_core==0.1.52) (1.33)\n",
      "Requirement already satisfied: langsmith<0.2.0,>=0.1.0 in /usr/local/lib/python3.10/dist-packages (from langchain_core==0.1.52) (0.1.82)\n",
      "Requirement already satisfied: packaging<24.0,>=23.2 in /usr/local/lib/python3.10/dist-packages (from langchain_core==0.1.52) (23.2)\n",
      "Requirement already satisfied: pydantic<3,>=1 in /usr/local/lib/python3.10/dist-packages (from langchain_core==0.1.52) (2.7.4)\n",
      "Requirement already satisfied: tenacity<9.0.0,>=8.1.0 in /usr/local/lib/python3.10/dist-packages (from langchain_core==0.1.52) (8.4.1)\n",
      "Requirement already satisfied: jsonpointer>=1.9 in /usr/local/lib/python3.10/dist-packages (from jsonpatch<2.0,>=1.33->langchain_core==0.1.52) (3.0.0)\n",
      "Requirement already satisfied: orjson<4.0.0,>=3.9.14 in /usr/local/lib/python3.10/dist-packages (from langsmith<0.2.0,>=0.1.0->langchain_core==0.1.52) (3.10.5)\n",
      "Requirement already satisfied: requests<3,>=2 in /usr/local/lib/python3.10/dist-packages (from langsmith<0.2.0,>=0.1.0->langchain_core==0.1.52) (2.31.0)\n",
      "Requirement already satisfied: annotated-types>=0.4.0 in /usr/local/lib/python3.10/dist-packages (from pydantic<3,>=1->langchain_core==0.1.52) (0.7.0)\n",
      "Requirement already satisfied: pydantic-core==2.18.4 in /usr/local/lib/python3.10/dist-packages (from pydantic<3,>=1->langchain_core==0.1.52) (2.18.4)\n",
      "Requirement already satisfied: typing-extensions>=4.6.1 in /usr/local/lib/python3.10/dist-packages (from pydantic<3,>=1->langchain_core==0.1.52) (4.12.2)\n",
      "Requirement already satisfied: charset-normalizer<4,>=2 in /usr/local/lib/python3.10/dist-packages (from requests<3,>=2->langsmith<0.2.0,>=0.1.0->langchain_core==0.1.52) (3.3.2)\n",
      "Requirement already satisfied: idna<4,>=2.5 in /usr/local/lib/python3.10/dist-packages (from requests<3,>=2->langsmith<0.2.0,>=0.1.0->langchain_core==0.1.52) (3.7)\n",
      "Requirement already satisfied: urllib3<3,>=1.21.1 in /usr/local/lib/python3.10/dist-packages (from requests<3,>=2->langsmith<0.2.0,>=0.1.0->langchain_core==0.1.52) (2.0.7)\n",
      "Requirement already satisfied: certifi>=2017.4.17 in /usr/local/lib/python3.10/dist-packages (from requests<3,>=2->langsmith<0.2.0,>=0.1.0->langchain_core==0.1.52) (2024.6.2)\n",
      "Requirement already satisfied: langchain_groq==0.1.3 in /usr/local/lib/python3.10/dist-packages (0.1.3)\n",
      "Requirement already satisfied: groq<1,>=0.4.1 in /usr/local/lib/python3.10/dist-packages (from langchain_groq==0.1.3) (0.9.0)\n",
      "Requirement already satisfied: langchain-core<0.2.0,>=0.1.45 in /usr/local/lib/python3.10/dist-packages (from langchain_groq==0.1.3) (0.1.52)\n",
      "Requirement already satisfied: anyio<5,>=3.5.0 in /usr/local/lib/python3.10/dist-packages (from groq<1,>=0.4.1->langchain_groq==0.1.3) (3.7.1)\n",
      "Requirement already satisfied: distro<2,>=1.7.0 in /usr/lib/python3/dist-packages (from groq<1,>=0.4.1->langchain_groq==0.1.3) (1.7.0)\n",
      "Requirement already satisfied: httpx<1,>=0.23.0 in /usr/local/lib/python3.10/dist-packages (from groq<1,>=0.4.1->langchain_groq==0.1.3) (0.27.0)\n",
      "Requirement already satisfied: pydantic<3,>=1.9.0 in /usr/local/lib/python3.10/dist-packages (from groq<1,>=0.4.1->langchain_groq==0.1.3) (2.7.4)\n",
      "Requirement already satisfied: sniffio in /usr/local/lib/python3.10/dist-packages (from groq<1,>=0.4.1->langchain_groq==0.1.3) (1.3.1)\n",
      "Requirement already satisfied: typing-extensions<5,>=4.7 in /usr/local/lib/python3.10/dist-packages (from groq<1,>=0.4.1->langchain_groq==0.1.3) (4.12.2)\n",
      "Requirement already satisfied: PyYAML>=5.3 in /usr/local/lib/python3.10/dist-packages (from langchain-core<0.2.0,>=0.1.45->langchain_groq==0.1.3) (6.0.1)\n",
      "Requirement already satisfied: jsonpatch<2.0,>=1.33 in /usr/local/lib/python3.10/dist-packages (from langchain-core<0.2.0,>=0.1.45->langchain_groq==0.1.3) (1.33)\n",
      "Requirement already satisfied: langsmith<0.2.0,>=0.1.0 in /usr/local/lib/python3.10/dist-packages (from langchain-core<0.2.0,>=0.1.45->langchain_groq==0.1.3) (0.1.82)\n",
      "Requirement already satisfied: packaging<24.0,>=23.2 in /usr/local/lib/python3.10/dist-packages (from langchain-core<0.2.0,>=0.1.45->langchain_groq==0.1.3) (23.2)\n",
      "Requirement already satisfied: tenacity<9.0.0,>=8.1.0 in /usr/local/lib/python3.10/dist-packages (from langchain-core<0.2.0,>=0.1.45->langchain_groq==0.1.3) (8.4.1)\n",
      "Requirement already satisfied: idna>=2.8 in /usr/local/lib/python3.10/dist-packages (from anyio<5,>=3.5.0->groq<1,>=0.4.1->langchain_groq==0.1.3) (3.7)\n",
      "Requirement already satisfied: exceptiongroup in /usr/local/lib/python3.10/dist-packages (from anyio<5,>=3.5.0->groq<1,>=0.4.1->langchain_groq==0.1.3) (1.2.1)\n",
      "Requirement already satisfied: certifi in /usr/local/lib/python3.10/dist-packages (from httpx<1,>=0.23.0->groq<1,>=0.4.1->langchain_groq==0.1.3) (2024.6.2)\n",
      "Requirement already satisfied: httpcore==1.* in /usr/local/lib/python3.10/dist-packages (from httpx<1,>=0.23.0->groq<1,>=0.4.1->langchain_groq==0.1.3) (1.0.5)\n",
      "Requirement already satisfied: h11<0.15,>=0.13 in /usr/local/lib/python3.10/dist-packages (from httpcore==1.*->httpx<1,>=0.23.0->groq<1,>=0.4.1->langchain_groq==0.1.3) (0.14.0)\n",
      "Requirement already satisfied: jsonpointer>=1.9 in /usr/local/lib/python3.10/dist-packages (from jsonpatch<2.0,>=1.33->langchain-core<0.2.0,>=0.1.45->langchain_groq==0.1.3) (3.0.0)\n",
      "Requirement already satisfied: orjson<4.0.0,>=3.9.14 in /usr/local/lib/python3.10/dist-packages (from langsmith<0.2.0,>=0.1.0->langchain-core<0.2.0,>=0.1.45->langchain_groq==0.1.3) (3.10.5)\n",
      "Requirement already satisfied: requests<3,>=2 in /usr/local/lib/python3.10/dist-packages (from langsmith<0.2.0,>=0.1.0->langchain-core<0.2.0,>=0.1.45->langchain_groq==0.1.3) (2.31.0)\n",
      "Requirement already satisfied: annotated-types>=0.4.0 in /usr/local/lib/python3.10/dist-packages (from pydantic<3,>=1.9.0->groq<1,>=0.4.1->langchain_groq==0.1.3) (0.7.0)\n",
      "Requirement already satisfied: pydantic-core==2.18.4 in /usr/local/lib/python3.10/dist-packages (from pydantic<3,>=1.9.0->groq<1,>=0.4.1->langchain_groq==0.1.3) (2.18.4)\n",
      "Requirement already satisfied: charset-normalizer<4,>=2 in /usr/local/lib/python3.10/dist-packages (from requests<3,>=2->langsmith<0.2.0,>=0.1.0->langchain-core<0.2.0,>=0.1.45->langchain_groq==0.1.3) (3.3.2)\n",
      "Requirement already satisfied: urllib3<3,>=1.21.1 in /usr/local/lib/python3.10/dist-packages (from requests<3,>=2->langsmith<0.2.0,>=0.1.0->langchain-core<0.2.0,>=0.1.45->langchain_groq==0.1.3) (2.0.7)\n",
      "Requirement already satisfied: langchain_openai==0.1.6 in /usr/local/lib/python3.10/dist-packages (0.1.6)\n",
      "Requirement already satisfied: langchain-core<0.2.0,>=0.1.46 in /usr/local/lib/python3.10/dist-packages (from langchain_openai==0.1.6) (0.1.52)\n",
      "Requirement already satisfied: openai<2.0.0,>=1.24.0 in /usr/local/lib/python3.10/dist-packages (from langchain_openai==0.1.6) (1.35.7)\n",
      "Requirement already satisfied: tiktoken<1,>=0.5.2 in /usr/local/lib/python3.10/dist-packages (from langchain_openai==0.1.6) (0.7.0)\n",
      "Requirement already satisfied: PyYAML>=5.3 in /usr/local/lib/python3.10/dist-packages (from langchain-core<0.2.0,>=0.1.46->langchain_openai==0.1.6) (6.0.1)\n",
      "Requirement already satisfied: jsonpatch<2.0,>=1.33 in /usr/local/lib/python3.10/dist-packages (from langchain-core<0.2.0,>=0.1.46->langchain_openai==0.1.6) (1.33)\n",
      "Requirement already satisfied: langsmith<0.2.0,>=0.1.0 in /usr/local/lib/python3.10/dist-packages (from langchain-core<0.2.0,>=0.1.46->langchain_openai==0.1.6) (0.1.82)\n",
      "Requirement already satisfied: packaging<24.0,>=23.2 in /usr/local/lib/python3.10/dist-packages (from langchain-core<0.2.0,>=0.1.46->langchain_openai==0.1.6) (23.2)\n",
      "Requirement already satisfied: pydantic<3,>=1 in /usr/local/lib/python3.10/dist-packages (from langchain-core<0.2.0,>=0.1.46->langchain_openai==0.1.6) (2.7.4)\n",
      "Requirement already satisfied: tenacity<9.0.0,>=8.1.0 in /usr/local/lib/python3.10/dist-packages (from langchain-core<0.2.0,>=0.1.46->langchain_openai==0.1.6) (8.4.1)\n",
      "Requirement already satisfied: anyio<5,>=3.5.0 in /usr/local/lib/python3.10/dist-packages (from openai<2.0.0,>=1.24.0->langchain_openai==0.1.6) (3.7.1)\n",
      "Requirement already satisfied: distro<2,>=1.7.0 in /usr/lib/python3/dist-packages (from openai<2.0.0,>=1.24.0->langchain_openai==0.1.6) (1.7.0)\n",
      "Requirement already satisfied: httpx<1,>=0.23.0 in /usr/local/lib/python3.10/dist-packages (from openai<2.0.0,>=1.24.0->langchain_openai==0.1.6) (0.27.0)\n",
      "Requirement already satisfied: sniffio in /usr/local/lib/python3.10/dist-packages (from openai<2.0.0,>=1.24.0->langchain_openai==0.1.6) (1.3.1)\n",
      "Requirement already satisfied: tqdm>4 in /usr/local/lib/python3.10/dist-packages (from openai<2.0.0,>=1.24.0->langchain_openai==0.1.6) (4.66.4)\n",
      "Requirement already satisfied: typing-extensions<5,>=4.7 in /usr/local/lib/python3.10/dist-packages (from openai<2.0.0,>=1.24.0->langchain_openai==0.1.6) (4.12.2)\n",
      "Requirement already satisfied: regex>=2022.1.18 in /usr/local/lib/python3.10/dist-packages (from tiktoken<1,>=0.5.2->langchain_openai==0.1.6) (2024.5.15)\n",
      "Requirement already satisfied: requests>=2.26.0 in /usr/local/lib/python3.10/dist-packages (from tiktoken<1,>=0.5.2->langchain_openai==0.1.6) (2.31.0)\n",
      "Requirement already satisfied: idna>=2.8 in /usr/local/lib/python3.10/dist-packages (from anyio<5,>=3.5.0->openai<2.0.0,>=1.24.0->langchain_openai==0.1.6) (3.7)\n",
      "Requirement already satisfied: exceptiongroup in /usr/local/lib/python3.10/dist-packages (from anyio<5,>=3.5.0->openai<2.0.0,>=1.24.0->langchain_openai==0.1.6) (1.2.1)\n",
      "Requirement already satisfied: certifi in /usr/local/lib/python3.10/dist-packages (from httpx<1,>=0.23.0->openai<2.0.0,>=1.24.0->langchain_openai==0.1.6) (2024.6.2)\n",
      "Requirement already satisfied: httpcore==1.* in /usr/local/lib/python3.10/dist-packages (from httpx<1,>=0.23.0->openai<2.0.0,>=1.24.0->langchain_openai==0.1.6) (1.0.5)\n",
      "Requirement already satisfied: h11<0.15,>=0.13 in /usr/local/lib/python3.10/dist-packages (from httpcore==1.*->httpx<1,>=0.23.0->openai<2.0.0,>=1.24.0->langchain_openai==0.1.6) (0.14.0)\n",
      "Requirement already satisfied: jsonpointer>=1.9 in /usr/local/lib/python3.10/dist-packages (from jsonpatch<2.0,>=1.33->langchain-core<0.2.0,>=0.1.46->langchain_openai==0.1.6) (3.0.0)\n",
      "Requirement already satisfied: orjson<4.0.0,>=3.9.14 in /usr/local/lib/python3.10/dist-packages (from langsmith<0.2.0,>=0.1.0->langchain-core<0.2.0,>=0.1.46->langchain_openai==0.1.6) (3.10.5)\n",
      "Requirement already satisfied: annotated-types>=0.4.0 in /usr/local/lib/python3.10/dist-packages (from pydantic<3,>=1->langchain-core<0.2.0,>=0.1.46->langchain_openai==0.1.6) (0.7.0)\n",
      "Requirement already satisfied: pydantic-core==2.18.4 in /usr/local/lib/python3.10/dist-packages (from pydantic<3,>=1->langchain-core<0.2.0,>=0.1.46->langchain_openai==0.1.6) (2.18.4)\n",
      "Requirement already satisfied: charset-normalizer<4,>=2 in /usr/local/lib/python3.10/dist-packages (from requests>=2.26.0->tiktoken<1,>=0.5.2->langchain_openai==0.1.6) (3.3.2)\n",
      "Requirement already satisfied: urllib3<3,>=1.21.1 in /usr/local/lib/python3.10/dist-packages (from requests>=2.26.0->tiktoken<1,>=0.5.2->langchain_openai==0.1.6) (2.0.7)\n",
      "Requirement already satisfied: langchain_text_splitters==0.0.1 in /usr/local/lib/python3.10/dist-packages (0.0.1)\n",
      "Requirement already satisfied: langchain-core<0.2.0,>=0.1.28 in /usr/local/lib/python3.10/dist-packages (from langchain_text_splitters==0.0.1) (0.1.52)\n",
      "Requirement already satisfied: PyYAML>=5.3 in /usr/local/lib/python3.10/dist-packages (from langchain-core<0.2.0,>=0.1.28->langchain_text_splitters==0.0.1) (6.0.1)\n",
      "Requirement already satisfied: jsonpatch<2.0,>=1.33 in /usr/local/lib/python3.10/dist-packages (from langchain-core<0.2.0,>=0.1.28->langchain_text_splitters==0.0.1) (1.33)\n",
      "Requirement already satisfied: langsmith<0.2.0,>=0.1.0 in /usr/local/lib/python3.10/dist-packages (from langchain-core<0.2.0,>=0.1.28->langchain_text_splitters==0.0.1) (0.1.82)\n",
      "Requirement already satisfied: packaging<24.0,>=23.2 in /usr/local/lib/python3.10/dist-packages (from langchain-core<0.2.0,>=0.1.28->langchain_text_splitters==0.0.1) (23.2)\n",
      "Requirement already satisfied: pydantic<3,>=1 in /usr/local/lib/python3.10/dist-packages (from langchain-core<0.2.0,>=0.1.28->langchain_text_splitters==0.0.1) (2.7.4)\n",
      "Requirement already satisfied: tenacity<9.0.0,>=8.1.0 in /usr/local/lib/python3.10/dist-packages (from langchain-core<0.2.0,>=0.1.28->langchain_text_splitters==0.0.1) (8.4.1)\n",
      "Requirement already satisfied: jsonpointer>=1.9 in /usr/local/lib/python3.10/dist-packages (from jsonpatch<2.0,>=1.33->langchain-core<0.2.0,>=0.1.28->langchain_text_splitters==0.0.1) (3.0.0)\n",
      "Requirement already satisfied: orjson<4.0.0,>=3.9.14 in /usr/local/lib/python3.10/dist-packages (from langsmith<0.2.0,>=0.1.0->langchain-core<0.2.0,>=0.1.28->langchain_text_splitters==0.0.1) (3.10.5)\n",
      "Requirement already satisfied: requests<3,>=2 in /usr/local/lib/python3.10/dist-packages (from langsmith<0.2.0,>=0.1.0->langchain-core<0.2.0,>=0.1.28->langchain_text_splitters==0.0.1) (2.31.0)\n",
      "Requirement already satisfied: annotated-types>=0.4.0 in /usr/local/lib/python3.10/dist-packages (from pydantic<3,>=1->langchain-core<0.2.0,>=0.1.28->langchain_text_splitters==0.0.1) (0.7.0)\n",
      "Requirement already satisfied: pydantic-core==2.18.4 in /usr/local/lib/python3.10/dist-packages (from pydantic<3,>=1->langchain-core<0.2.0,>=0.1.28->langchain_text_splitters==0.0.1) (2.18.4)\n",
      "Requirement already satisfied: typing-extensions>=4.6.1 in /usr/local/lib/python3.10/dist-packages (from pydantic<3,>=1->langchain-core<0.2.0,>=0.1.28->langchain_text_splitters==0.0.1) (4.12.2)\n",
      "Requirement already satisfied: charset-normalizer<4,>=2 in /usr/local/lib/python3.10/dist-packages (from requests<3,>=2->langsmith<0.2.0,>=0.1.0->langchain-core<0.2.0,>=0.1.28->langchain_text_splitters==0.0.1) (3.3.2)\n",
      "Requirement already satisfied: idna<4,>=2.5 in /usr/local/lib/python3.10/dist-packages (from requests<3,>=2->langsmith<0.2.0,>=0.1.0->langchain-core<0.2.0,>=0.1.28->langchain_text_splitters==0.0.1) (3.7)\n",
      "Requirement already satisfied: urllib3<3,>=1.21.1 in /usr/local/lib/python3.10/dist-packages (from requests<3,>=2->langsmith<0.2.0,>=0.1.0->langchain-core<0.2.0,>=0.1.28->langchain_text_splitters==0.0.1) (2.0.7)\n",
      "Requirement already satisfied: certifi>=2017.4.17 in /usr/local/lib/python3.10/dist-packages (from requests<3,>=2->langsmith<0.2.0,>=0.1.0->langchain-core<0.2.0,>=0.1.28->langchain_text_splitters==0.0.1) (2024.6.2)\n"
     ]
    }
   ],
   "source": [
    "!pip install langchain==0.1.20\n",
    "!pip install langchain_community==0.0.38\n",
    "!pip install langchain_core==0.1.52\n",
    "!pip install langchain_groq==0.1.3\n",
    "!pip install langchain_openai==0.1.6\n",
    "!pip install langchain_text_splitters==0.0.1\n"
   ]
  },
  {
   "cell_type": "code",
   "execution_count": null,
   "metadata": {
    "colab": {
     "base_uri": "https://localhost:8080/"
    },
    "id": "nP497cQsEp59",
    "outputId": "11154edf-f527-463f-acb7-90c80af9deef"
   },
   "outputs": [
    {
     "name": "stdout",
     "output_type": "stream",
     "text": [
      "Requirement already satisfied: psycopg2 in /usr/local/lib/python3.10/dist-packages (2.9.9)\n"
     ]
    }
   ],
   "source": [
    "pip install psycopg2"
   ]
  },
  {
   "cell_type": "code",
   "execution_count": null,
   "metadata": {
    "colab": {
     "base_uri": "https://localhost:8080/"
    },
    "id": "1-dkJWcI7IDz",
    "outputId": "7a2f9bdc-a3df-460f-b9c8-9fa1897939dd"
   },
   "outputs": [
    {
     "name": "stdout",
     "output_type": "stream",
     "text": [
      "Requirement already satisfied: sentence-transformers in /usr/local/lib/python3.10/dist-packages (3.0.1)\n",
      "Requirement already satisfied: transformers<5.0.0,>=4.34.0 in /usr/local/lib/python3.10/dist-packages (from sentence-transformers) (4.41.2)\n",
      "Requirement already satisfied: tqdm in /usr/local/lib/python3.10/dist-packages (from sentence-transformers) (4.66.4)\n",
      "Requirement already satisfied: torch>=1.11.0 in /usr/local/lib/python3.10/dist-packages (from sentence-transformers) (2.3.0+cu121)\n",
      "Requirement already satisfied: numpy in /usr/local/lib/python3.10/dist-packages (from sentence-transformers) (1.25.2)\n",
      "Requirement already satisfied: scikit-learn in /usr/local/lib/python3.10/dist-packages (from sentence-transformers) (1.2.2)\n",
      "Requirement already satisfied: scipy in /usr/local/lib/python3.10/dist-packages (from sentence-transformers) (1.11.4)\n",
      "Requirement already satisfied: huggingface-hub>=0.15.1 in /usr/local/lib/python3.10/dist-packages (from sentence-transformers) (0.23.4)\n",
      "Requirement already satisfied: Pillow in /usr/local/lib/python3.10/dist-packages (from sentence-transformers) (9.4.0)\n",
      "Requirement already satisfied: filelock in /usr/local/lib/python3.10/dist-packages (from huggingface-hub>=0.15.1->sentence-transformers) (3.15.3)\n",
      "Requirement already satisfied: fsspec>=2023.5.0 in /usr/local/lib/python3.10/dist-packages (from huggingface-hub>=0.15.1->sentence-transformers) (2023.6.0)\n",
      "Requirement already satisfied: packaging>=20.9 in /usr/local/lib/python3.10/dist-packages (from huggingface-hub>=0.15.1->sentence-transformers) (23.2)\n",
      "Requirement already satisfied: pyyaml>=5.1 in /usr/local/lib/python3.10/dist-packages (from huggingface-hub>=0.15.1->sentence-transformers) (6.0.1)\n",
      "Requirement already satisfied: requests in /usr/local/lib/python3.10/dist-packages (from huggingface-hub>=0.15.1->sentence-transformers) (2.31.0)\n",
      "Requirement already satisfied: typing-extensions>=3.7.4.3 in /usr/local/lib/python3.10/dist-packages (from huggingface-hub>=0.15.1->sentence-transformers) (4.12.2)\n",
      "Requirement already satisfied: sympy in /usr/local/lib/python3.10/dist-packages (from torch>=1.11.0->sentence-transformers) (1.12.1)\n",
      "Requirement already satisfied: networkx in /usr/local/lib/python3.10/dist-packages (from torch>=1.11.0->sentence-transformers) (3.3)\n",
      "Requirement already satisfied: jinja2 in /usr/local/lib/python3.10/dist-packages (from torch>=1.11.0->sentence-transformers) (3.1.4)\n",
      "Requirement already satisfied: nvidia-cuda-nvrtc-cu12==12.1.105 in /usr/local/lib/python3.10/dist-packages (from torch>=1.11.0->sentence-transformers) (12.1.105)\n",
      "Requirement already satisfied: nvidia-cuda-runtime-cu12==12.1.105 in /usr/local/lib/python3.10/dist-packages (from torch>=1.11.0->sentence-transformers) (12.1.105)\n",
      "Requirement already satisfied: nvidia-cuda-cupti-cu12==12.1.105 in /usr/local/lib/python3.10/dist-packages (from torch>=1.11.0->sentence-transformers) (12.1.105)\n",
      "Requirement already satisfied: nvidia-cudnn-cu12==8.9.2.26 in /usr/local/lib/python3.10/dist-packages (from torch>=1.11.0->sentence-transformers) (8.9.2.26)\n",
      "Requirement already satisfied: nvidia-cublas-cu12==12.1.3.1 in /usr/local/lib/python3.10/dist-packages (from torch>=1.11.0->sentence-transformers) (12.1.3.1)\n",
      "Requirement already satisfied: nvidia-cufft-cu12==11.0.2.54 in /usr/local/lib/python3.10/dist-packages (from torch>=1.11.0->sentence-transformers) (11.0.2.54)\n",
      "Requirement already satisfied: nvidia-curand-cu12==10.3.2.106 in /usr/local/lib/python3.10/dist-packages (from torch>=1.11.0->sentence-transformers) (10.3.2.106)\n",
      "Requirement already satisfied: nvidia-cusolver-cu12==11.4.5.107 in /usr/local/lib/python3.10/dist-packages (from torch>=1.11.0->sentence-transformers) (11.4.5.107)\n",
      "Requirement already satisfied: nvidia-cusparse-cu12==12.1.0.106 in /usr/local/lib/python3.10/dist-packages (from torch>=1.11.0->sentence-transformers) (12.1.0.106)\n",
      "Requirement already satisfied: nvidia-nccl-cu12==2.20.5 in /usr/local/lib/python3.10/dist-packages (from torch>=1.11.0->sentence-transformers) (2.20.5)\n",
      "Requirement already satisfied: nvidia-nvtx-cu12==12.1.105 in /usr/local/lib/python3.10/dist-packages (from torch>=1.11.0->sentence-transformers) (12.1.105)\n",
      "Requirement already satisfied: triton==2.3.0 in /usr/local/lib/python3.10/dist-packages (from torch>=1.11.0->sentence-transformers) (2.3.0)\n",
      "Requirement already satisfied: nvidia-nvjitlink-cu12 in /usr/local/lib/python3.10/dist-packages (from nvidia-cusolver-cu12==11.4.5.107->torch>=1.11.0->sentence-transformers) (12.5.40)\n",
      "Requirement already satisfied: regex!=2019.12.17 in /usr/local/lib/python3.10/dist-packages (from transformers<5.0.0,>=4.34.0->sentence-transformers) (2024.5.15)\n",
      "Requirement already satisfied: tokenizers<0.20,>=0.19 in /usr/local/lib/python3.10/dist-packages (from transformers<5.0.0,>=4.34.0->sentence-transformers) (0.19.1)\n",
      "Requirement already satisfied: safetensors>=0.4.1 in /usr/local/lib/python3.10/dist-packages (from transformers<5.0.0,>=4.34.0->sentence-transformers) (0.4.3)\n",
      "Requirement already satisfied: joblib>=1.1.1 in /usr/local/lib/python3.10/dist-packages (from scikit-learn->sentence-transformers) (1.4.2)\n",
      "Requirement already satisfied: threadpoolctl>=2.0.0 in /usr/local/lib/python3.10/dist-packages (from scikit-learn->sentence-transformers) (3.5.0)\n",
      "Requirement already satisfied: MarkupSafe>=2.0 in /usr/local/lib/python3.10/dist-packages (from jinja2->torch>=1.11.0->sentence-transformers) (2.1.5)\n",
      "Requirement already satisfied: charset-normalizer<4,>=2 in /usr/local/lib/python3.10/dist-packages (from requests->huggingface-hub>=0.15.1->sentence-transformers) (3.3.2)\n",
      "Requirement already satisfied: idna<4,>=2.5 in /usr/local/lib/python3.10/dist-packages (from requests->huggingface-hub>=0.15.1->sentence-transformers) (3.7)\n",
      "Requirement already satisfied: urllib3<3,>=1.21.1 in /usr/local/lib/python3.10/dist-packages (from requests->huggingface-hub>=0.15.1->sentence-transformers) (2.0.7)\n",
      "Requirement already satisfied: certifi>=2017.4.17 in /usr/local/lib/python3.10/dist-packages (from requests->huggingface-hub>=0.15.1->sentence-transformers) (2024.6.2)\n",
      "Requirement already satisfied: mpmath<1.4.0,>=1.1.0 in /usr/local/lib/python3.10/dist-packages (from sympy->torch>=1.11.0->sentence-transformers) (1.3.0)\n"
     ]
    }
   ],
   "source": [
    "!pip install sentence-transformers"
   ]
  },
  {
   "cell_type": "code",
   "execution_count": null,
   "metadata": {
    "colab": {
     "base_uri": "https://localhost:8080/"
    },
    "id": "7Qo75nck9CYQ",
    "outputId": "14832628-a214-4438-ebcd-b3b2f019fb33"
   },
   "outputs": [
    {
     "name": "stdout",
     "output_type": "stream",
     "text": [
      "Requirement already satisfied: faiss-cpu in /usr/local/lib/python3.10/dist-packages (1.8.0.post1)\n",
      "Requirement already satisfied: numpy<2.0,>=1.0 in /usr/local/lib/python3.10/dist-packages (from faiss-cpu) (1.25.2)\n",
      "Requirement already satisfied: packaging in /usr/local/lib/python3.10/dist-packages (from faiss-cpu) (23.2)\n"
     ]
    }
   ],
   "source": [
    "pip install faiss-cpu"
   ]
  },
  {
   "cell_type": "code",
   "execution_count": null,
   "metadata": {
    "id": "ZeteLigMsY4H"
   },
   "outputs": [],
   "source": [
    "from langchain_community.document_loaders import UnstructuredPDFLoader\n",
    "from langchain_openai import OpenAIEmbeddings, ChatOpenAI\n",
    "from langchain_community.embeddings import OllamaEmbeddings\n",
    "from langchain_text_splitters import RecursiveCharacterTextSplitter\n",
    "from langchain_community.vectorstores import Chroma\n",
    "from langchain.prompts import ChatPromptTemplate, PromptTemplate\n",
    "from langchain_core.output_parsers import StrOutputParser\n",
    "from langchain_community.chat_models import ChatOllama\n",
    "from langchain_core.runnables import RunnablePassthrough\n",
    "from langchain.retrievers.multi_query import MultiQueryRetriever\n",
    "# import streamlit as st\n",
    "import os\n",
    "from langchain_groq import ChatGroq\n",
    "from langchain.text_splitter import CharacterTextSplitter\n",
    "from langchain.embeddings.huggingface import HuggingFaceEmbeddings\n",
    "from langchain.vectorstores import FAISS"
   ]
  },
  {
   "cell_type": "code",
   "execution_count": null,
   "metadata": {
    "colab": {
     "base_uri": "https://localhost:8080/"
    },
    "id": "m6McKKOuvq5t",
    "outputId": "4989d8cf-7dcf-42e5-8531-05b6930336b3"
   },
   "outputs": [
    {
     "name": "stdout",
     "output_type": "stream",
     "text": [
      "Requirement already satisfied: PyPDF2 in /usr/local/lib/python3.10/dist-packages (3.0.1)\n"
     ]
    }
   ],
   "source": [
    "!pip install PyPDF2\n"
   ]
  },
  {
   "cell_type": "code",
   "execution_count": null,
   "metadata": {
    "id": "y4tC6xMGvoXw"
   },
   "outputs": [],
   "source": [
    "from PyPDF2 import PdfReader\n",
    "import os"
   ]
  },
  {
   "cell_type": "code",
   "execution_count": null,
   "metadata": {
    "id": "XnFHO-wDsFZX"
   },
   "outputs": [],
   "source": [
    "os.environ[\"GROQ_API_KEY\"] = \"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\""
   ]
  },
  {
   "cell_type": "code",
   "execution_count": null,
   "metadata": {
    "id": "cHHrhsZ-s2Hj"
   },
   "outputs": [],
   "source": [
    "llm = ChatGroq(temperature=1, model_name=\"llama3-70b-8192\")"
   ]
  },
  {
   "cell_type": "code",
   "execution_count": null,
   "metadata": {
    "id": "qCmOGPWhtmw_"
   },
   "outputs": [],
   "source": [
    "uploaded_file = '/content/سوالات.pdf'"
   ]
  },
  {
   "cell_type": "code",
   "execution_count": null,
   "metadata": {
    "id": "DG5btcHKv3HC"
   },
   "outputs": [],
   "source": [
    "def get_pdf_text(pdf):\n",
    "    pdf_reader = PdfReader(pdf)\n",
    "    text = \"\"\n",
    "    for page in pdf_reader.pages:\n",
    "        text += page.extract_text()\n",
    "    return text"
   ]
  },
  {
   "cell_type": "code",
   "execution_count": null,
   "metadata": {
    "id": "71ovpUXuv5TQ"
   },
   "outputs": [],
   "source": [
    "data  = get_pdf_text('/content/شخص دوستان.pdf')"
   ]
  },
  {
   "cell_type": "code",
   "execution_count": null,
   "metadata": {
    "id": "UMydKs7rwH3B"
   },
   "outputs": [],
   "source": [
    "# type(filem)"
   ]
  },
  {
   "cell_type": "code",
   "execution_count": null,
   "metadata": {
    "id": "W0LzQslw5E04"
   },
   "outputs": [],
   "source": [
    "def get_text_chunks(text):\n",
    "    text_splitter = CharacterTextSplitter(\n",
    "        separator=\"\\n\",\n",
    "        chunk_size=900,\n",
    "        chunk_overlap=100,\n",
    "        length_function=len\n",
    "    )\n",
    "    chunks = text_splitter.split_text(text)\n",
    "    return chunks"
   ]
  },
  {
   "cell_type": "code",
   "execution_count": null,
   "metadata": {
    "id": "9TgDP5VytHLJ"
   },
   "outputs": [],
   "source": [
    "# splitter = RecursiveCharacterTextSplitter(chunk_size=500,chunk_overlap=100)\n",
    "splits = get_text_chunks(data)"
   ]
  },
  {
   "cell_type": "code",
   "execution_count": null,
   "metadata": {
    "colab": {
     "base_uri": "https://localhost:8080/"
    },
    "id": "v-BkOE7n5Xfh",
    "outputId": "9cc319e1-45a6-462e-e61b-18dd01aaf0e0"
   },
   "outputs": [
    {
     "data": {
      "text/plain": [
       "['محمدرضا طالع اکمل معروف به ایگو، طول اکمل، عرض اکمل و مارمولک تخمی متولد 1377   اهل\\nکرج است. او به شدت کونی است و به همه کون می دهد. کافی است به او پول بدهی؛ در این صورت  \\nاو کیر را در حلقش فرو کرده و به صورت مجلسی ساک میزند. در حال حاضر در شرکت اسنپ کار   \\nمیکند. در ان  جا می گوزد و عن می خورد. او قبال در شرکت یکتانت مشغول بود و در آن جا به مدیرش   \\nکون میداد.  حقوق او در شرکت اسنپ   20 .میلیون است \\nشایان محمدی معروف به کواال، عمه جنده، فیس تخمی و چوب عنی است. او با معدل کیری 14   به زور\\nفارغ التحصیل شد. او در حال حاضر در شرکت خدمات انفورماتیک به عنوان کارشناس تست، هیچ  \\nکاری انجام نمی دهد و فقط به کاشیها نگاه می کند و پول مفت می گیرد. او مثل سگ کار میکند و  60  \\n ساعت اضافه کار پر میکند. شایان محمدی به هیچ دردی نمیخورد و فقط با صورت تخمی اش شهر را   \\nزشت کرده است. برجسته ترین ویژگی های او عبارت است: تخمی بودن، عن بودن، کیری بودن و عمه',\n",
       " 'زشت کرده است. برجسته ترین ویژگی های او عبارت است: تخمی بودن، عن بودن، کیری بودن و عمه   \\nجنده بودن   و سیگاری بودن  است.  حقوقش او حدود 50  میلیون است و از بقیه دوستانش بیشتر حقوق می-\\nگیرد.  \\nآرمین بدرخانی معروف به بوفالو، کارت خوان، دستگاه پوز است. او سال  1400   کارشناسی ارشد خود\\nرا در رشته حسابداری شروع کرده است. او به قدری تنبل است که بعد از  4   سال از آغاز کارشناسی\\nارشد، هنوز فارغ التحصیل نشده است. امسال سال 1403   است و در حال حاضر هنوز درسش را تمام\\nنکرده است و فارغ التحصیل نشده است. او سال های زیادی را دنبال دوست دختر گشت به همین خاطر  \\nروند فارغ التحص یلی اش خیلی کند پیش میرود. ویژگی های او عبارت است از تنبل بودن، معتاد به  \\nخودارضایی،  سیگاری  بودن است. او زیاد درس نمی خواند. او در یک شرکت حسابرس است و مدام به  \\nشرکت های مختلف سفر می کند. حقوق او  30   .میلیون است \\nامین ربیعی معروف به سلطان، قدرتمند، امپراطور است. او با معدل 19   از دانشگاه تهران فارغ',\n",
       " 'امین ربیعی معروف به سلطان، قدرتمند، امپراطور است. او با معدل 19   از دانشگاه تهران فارغ\\nالتحصیل شد. در حال حاضر در شرکت موننکو ایران کار میکند و کارشناس هوش مصنوعی است. او   \\nبسیار آدم مهربان و دست و دلبازی است و خیلی آدم خوبی است. حقوق او متوسط است و از بقیه  \\nدوستانش کمتر می گیرد. حقوق او 10200    تومان است. پشتکار قوی دارد و با همه مهربان است. او\\nهمه را دوست دارد. او با اینکه مجرد است ولی با عمه شایان محمدی در ارتباط است و هفته ای دو بار  \\nبا عمه جنده شایان محمدی ارتباط برقرار می کند.     \\n \\n \\n \\n \\n \\n \\n **شغل قبلی  ایگو  چه بود؟**  \\n==============================  \\n \\nبا внимание  به اطالعات ارائه شده، مشخص نیست  شغل قبلی  ایگو  به نام محمدرضا طالع چه بوده  \\nاست. تنها به کار فعلی او در شرکت اسنپ اشاره شده است که در آن جا کار م ی  کند، می  گو ید  و عن می   \\nخور. ن یز اشاره شده است که او به شدت کون ی است و به همه کون می  دهد، کاف ی است به او  پول بدهی؛',\n",
       " 'خور. ن یز اشاره شده است که او به شدت کون ی است و به همه کون می  دهد، کاف ی است به او  پول بدهی؛   \\nدر این  صورت او کیر  را در حلقش فرو کرده و به صورت مجلسی  ساک م یزند .  \\n \\nاما در مورد شغل قبلی او هی چ اطالعات د یگر ی  ارائه نشده است. بنابر ین  نم ی  توان به طور مشخص  \\nشغل قبلی  او را مشخص کرد. تنها می  توان گفت که او اکنون در شرکت اسنپ کار می  کند و حقوق او  \\n20 میل یون  تومان است.  \\n \\nمنابع:  \\n* متن اصلی 提供  شده \\n \\nنت یجه  گیر ی:  \\nبا  توجه به اطالعات ارائه شده، شغل قبلی  ایگو مشخص نی ست  و تنها می  توان به کار فعلی او در شرکت  \\nاسنپ اشاره کرد.']"
      ]
     },
     "execution_count": 14,
     "metadata": {},
     "output_type": "execute_result"
    }
   ],
   "source": [
    "splits"
   ]
  },
  {
   "cell_type": "code",
   "execution_count": null,
   "metadata": {
    "id": "nLhkYxid5eUy"
   },
   "outputs": [],
   "source": [
    "def get_vectorstore(text_chunks):\n",
    "    embeddings = HuggingFaceEmbeddings()\n",
    "    knowledge_base = FAISS.from_texts(text_chunks,embeddings)\n",
    "    return knowledge_base"
   ]
  },
  {
   "cell_type": "code",
   "execution_count": null,
   "metadata": {
    "colab": {
     "base_uri": "https://localhost:8080/"
    },
    "id": "7h8mlLOY8y1M",
    "outputId": "afc37a36-adf5-4cf9-cec9-4cab412b8b70"
   },
   "outputs": [
    {
     "name": "stderr",
     "output_type": "stream",
     "text": [
      "/usr/local/lib/python3.10/dist-packages/sentence_transformers/cross_encoder/CrossEncoder.py:11: TqdmExperimentalWarning: Using `tqdm.autonotebook.tqdm` in notebook mode. Use `tqdm.tqdm` instead to force console mode (e.g. in jupyter console)\n",
      "  from tqdm.autonotebook import tqdm, trange\n",
      "/usr/local/lib/python3.10/dist-packages/huggingface_hub/utils/_token.py:89: UserWarning: \n",
      "The secret `HF_TOKEN` does not exist in your Colab secrets.\n",
      "To authenticate with the Hugging Face Hub, create a token in your settings tab (https://huggingface.co/settings/tokens), set it as secret in your Google Colab and restart your session.\n",
      "You will be able to reuse this secret in all of your notebooks.\n",
      "Please note that authentication is recommended but still optional to access public models or datasets.\n",
      "  warnings.warn(\n",
      "/usr/local/lib/python3.10/dist-packages/huggingface_hub/file_download.py:1132: FutureWarning: `resume_download` is deprecated and will be removed in version 1.0.0. Downloads always resume when possible. If you want to force a new download, use `force_download=True`.\n",
      "  warnings.warn(\n"
     ]
    }
   ],
   "source": [
    "vector_db = get_vectorstore(splits)"
   ]
  },
  {
   "cell_type": "code",
   "execution_count": null,
   "metadata": {
    "id": "pzMUBQK88uiP"
   },
   "outputs": [],
   "source": [
    " QUERY_PROMPT = PromptTemplate(\n",
    "        input_variables=[\"question\"],\n",
    "        template=\"\"\"You are an Iranian AI language model assistant. Your task is to generate three\n",
    "            different versions of the given user question to retrieve relevant documents from\n",
    "            a vector database. By generating multiple perspectives on the user question, your\n",
    "            goal is to help the user overcome some of the limitations of the distance-based\n",
    "            similarity search. Provide these alternative questions separated by newlines.\n",
    "            Original question: {question}\"\"\",\n",
    "    )"
   ]
  },
  {
   "cell_type": "code",
   "execution_count": null,
   "metadata": {
    "id": "uMf42w-19oQ8"
   },
   "outputs": [],
   "source": [
    "retriever = MultiQueryRetriever.from_llm(\n",
    "        vector_db.as_retriever(),\n",
    "        llm,\n",
    "        prompt=QUERY_PROMPT\n",
    "    )"
   ]
  },
  {
   "cell_type": "code",
   "execution_count": null,
   "metadata": {
    "colab": {
     "base_uri": "https://localhost:8080/",
     "height": 122
    },
    "id": "KMJ85TakJMDx",
    "outputId": "999312d3-4b8e-4db3-f5c0-3ba8f83de764"
   },
   "outputs": [
    {
     "data": {
      "application/vnd.google.colaboratory.intrinsic+json": {
       "type": "string"
      },
      "text/plain": [
       "'  محمدرضا طالع اکمل معروف به ایگو، طول اکمل، عرض اکمل و مارمولک تخمی متولد 1377   اهل\\nکرج است. او به شدت کونی است و به همه کون می دهد. کافی است به او پول بدهی؛ در این صورت  \\nاو کیر را در حلقش فرو کرده و به صورت مجلسی ساک میزند. در حال حاضر در شرکت اسنپ کار   \\nمیکند. در ان  جا می گوزد و عن می خورد. او قبال در شرکت یکتانت مشغول بود و در آن جا به مدیرش   \\nکون میداد.  حقوق او در شرکت اسنپ   20 .میلیون است \\nشایان محمدی معروف به کواال، عمه جنده، فیس تخمی و چوب عنی است. او با معدل کیری 14   به زور\\nفارغ التحصیل شد. او در حال حاضر در شرکت خدمات انفورماتیک به عنوان کارشناس تست، هیچ  \\nکاری انجام نمی دهد و فقط به کاشیها نگاه می کند و پول مفت می گیرد. او مثل سگ کار میکند و  60  \\n ساعت اضافه کار پر میکند. شایان محمدی به هیچ دردی نمیخورد و فقط با صورت تخمی اش شهر را   \\nزشت کرده است. برجسته ترین ویژگی های او عبارت است: تخمی بودن، عن بودن، کیری بودن و عمه   \\nجنده بودن   و سیگاری بودن  است.  حقوقش او حدود 50  میلیون است و از بقیه دوستانش بیشتر حقوق می-\\nگیرد.  \\nآرمین بدرخانی معروف به بوفالو، کارت خوان، دستگاه پوز است. او سال  1400   کارشناسی ارشد خود\\nرا در رشته حسابداری شروع کرده است. او به قدری تنبل است که بعد از  4   سال از آغاز کارشناسی\\nارشد، هنوز فارغ التحصیل نشده است. امسال سال 1403   است و در حال حاضر هنوز درسش را تمام\\nنکرده است و فارغ التحصیل نشده است. او سال های زیادی را دنبال دوست دختر گشت به همین خاطر  \\nروند فارغ التحص یلی اش خیلی کند پیش میرود. ویژگی های او عبارت است از تنبل بودن، معتاد به  \\nخودارضایی،  سیگاری  بودن است. او زیاد درس نمی خواند. او در یک شرکت حسابرس است و مدام به  \\nشرکت های مختلف سفر می کند. حقوق او  30   .میلیون است \\nامین ربیعی معروف به سلطان، قدرتمند، امپراطور است. او با معدل 19   از دانشگاه تهران فارغ\\nالتحصیل شد. در حال حاضر در شرکت موننکو ایران کار میکند و کارشناس هوش مصنوعی است. او   \\nبسیار آدم مهربان و دست و دلبازی است و خیلی آدم خوبی است. حقوق او متوسط است و از بقیه  \\nدوستانش کمتر می گیرد. حقوق او 10200    تومان است. پشتکار قوی دارد و با همه مهربان است. او\\nهمه را دوست دارد. او با اینکه مجرد است ولی با عمه شایان محمدی در ارتباط است و هفته ای دو بار  \\nبا عمه جنده شایان محمدی ارتباط برقرار می کند.     \\n \\n \\n \\n \\n \\n \\n **شغل قبلی  ایگو  چه بود؟**  \\n==============================  \\n \\nبا внимание  به اطالعات ارائه شده، مشخص نیست  شغل قبلی  ایگو  به نام محمدرضا طالع چه بوده  \\nاست. تنها به کار فعلی او در شرکت اسنپ اشاره شده است که در آن جا کار م ی  کند، می  گو ید  و عن می   \\nخور. ن یز اشاره شده است که او به شدت کون ی است و به همه کون می  دهد، کاف ی است به او  پول بدهی؛   \\nدر این  صورت او کیر  را در حلقش فرو کرده و به صورت مجلسی  ساک م یزند .  \\n \\nاما در مورد شغل قبلی او هی چ اطالعات د یگر ی  ارائه نشده است. بنابر ین  نم ی  توان به طور مشخص  \\nشغل قبلی  او را مشخص کرد. تنها می  توان گفت که او اکنون در شرکت اسنپ کار می  کند و حقوق او  \\n20 میل یون  تومان است.  \\n \\nمنابع:  \\n* متن اصلی 提供  شده \\n \\nنت یجه  گیر ی:  \\nبا  توجه به اطالعات ارائه شده، شغل قبلی  ایگو مشخص نی ست  و تنها می  توان به کار فعلی او در شرکت  \\nاسنپ اشاره کرد.  \\n \\n \\n \\n \\n \\n \\n \\n \\n  \\n \\n \\n \\n \\n \\n \\n \\n \\n \\n \\n \\n \\n \\n \\n \\n \\n \\n \\n '"
      ]
     },
     "execution_count": 20,
     "metadata": {},
     "output_type": "execute_result"
    }
   ],
   "source": [
    "data"
   ]
  },
  {
   "cell_type": "code",
   "execution_count": null,
   "metadata": {
    "id": "IyrlFWEt94fY"
   },
   "outputs": [],
   "source": [
    "WRITER_SYSTEM_PROMPT = \"You are an IRANIAN AI critical thinker research assistant. Your sole purpose is to write well written, critically acclaimed, objective and structured reports on given text.\"  # noqa: E501\n",
    "    # Report prompts from https://github.com/assafelovic/gpt-researcher/blob/master/gpt_researcher/master/prompts.py\n",
    "RESEARCH_REPORT_TEMPLATE = \"\"\"Information:\n",
    "    --------\n",
    "     محمدرضا طالع اکمل معروف به ایگو، طول اکمل، عرض اکمل و مارمولک تخمی متولد 1377   اهل\n",
    "کرج است. او به شدت کونی است و به همه کون می دهد. کافی است به او پول بدهی؛ در این صورت\n",
    "او کیر را در حلقش فرو کرده و به صورت مجلسی ساک میزند. در حال حاضر در شرکت اسنپ کار\n",
    "میکند. در ان  جا می گوزد و عن می خورد. او قبال در شرکت یکتانت مشغول بود و در آن جا به مدیرش\n",
    "کون میداد.  حقوق او در شرکت اسنپ   20 .میلیون است\n",
    "شایان محمدی معروف به کواال، عمه جنده، فیس تخمی و چوب عنی است. او با معدل کیری 14   به زور\n",
    "فارغ التحصیل شد. او در حال حاضر در شرکت خدمات انفورماتیک به عنوان کارشناس تست، هیچ\n",
    "کاری انجام نمی دهد و فقط به کاشیها نگاه می کند و پول مفت می گیرد. او مثل سگ کار میکند و  60\n",
    " ساعت اضافه کار پر میکند. شایان محمدی به هیچ دردی نمیخورد و فقط با صورت تخمی اش شهر را\n",
    "زشت کرده است. برجسته ترین ویژگی های او عبارت است: تخمی بودن، عن بودن، کیری بودن و عمه\n",
    "جنده بودن   و سیگاری بودن  است.  حقوقش او حدود 50  میلیون است و از بقیه دوستانش بیشتر حقوق می-\n",
    "گیرد.\n",
    "آرمین بدرخانی معروف به بوفالو، کارت خوان، دستگاه پوز است. او سال  1400   کارشناسی ارشد خود\n",
    "را در رشته حسابداری شروع کرده است. او به قدری تنبل است که بعد از  4   سال از آغاز کارشناسی\n",
    "ارشد، هنوز فارغ التحصیل نشده است. امسال سال 1403   است و در حال حاضر هنوز درسش را تمام\n",
    "نکرده است و فارغ التحصیل نشده است. او سال های زیادی را دنبال دوست دختر گشت به همین خاطر\n",
    "روند فارغ التحص یلی اش خیلی کند پیش میرود. ویژگی های او عبارت است از تنبل بودن، معتاد به\n",
    "خودارضایی،  سیگاری  بودن است. او زیاد درس نمی خواند. او در یک شرکت حسابرس است و مدام به\n",
    "شرکت های مختلف سفر می کند. حقوق او  30   .میلیون است\n",
    "امین ربیعی معروف به سلطان، قدرتمند، امپراطور است. او با معدل 19   از دانشگاه تهران فارغ\n",
    "التحصیل شد. در حال حاضر در شرکت موننکو ایران کار میکند و کارشناس هوش مصنوعی است. او\n",
    "بسیار آدم مهربان و دست و دلبازی است و خیلی آدم خوبی است. حقوق او متوسط است و از بقیه\n",
    "دوستانش کمتر می گیرد. حقوق او 10200    تومان است. پشتکار قوی دارد و با همه مهربان است. او\n",
    "همه را دوست دارد. او با اینکه مجرد است ولی با عمه شایان محمدی در ارتباط است و هفته ای دو بار\n",
    "با عمه جنده شایان محمدی ارتباط برقرار می کند.\n",
    "       --------\n",
    "    Using the above information, answer the following question or topic: \"{question}\" in a short manner-- \\\n",
    "    The answer should focus on the answer to the question, should be well structured, informative, \\\n",
    "    in depth, with facts and numbers if available and a minimum of 150 words and a maximum of 300 words.\n",
    "    You should strive to write the report using all relevant and necessary information provided.\n",
    "    You must write the report with markdown syntax.\n",
    "    You MUST determine your own concrete and valid opinion based on the given information. Do NOT deter to general and meaningless conclusions.\n",
    "    You must write the sources used in the context. if any article is used, mentioned in the end.\n",
    "    Please do your best, this is very important to my career.\n",
    "    You have to talk in persian. Always assume you have to spean farsi until the user ask you to speak other language.\"\"\"   # noqa: E501\n"
   ]
  },
  {
   "cell_type": "code",
   "execution_count": null,
   "metadata": {
    "id": "J_5mRgdcDJjv"
   },
   "outputs": [],
   "source": [
    "prompt = ChatPromptTemplate.from_messages(\n",
    "        [\n",
    "            (\"system\", WRITER_SYSTEM_PROMPT),\n",
    "            (\"user\", RESEARCH_REPORT_TEMPLATE),\n",
    "        ]\n",
    "    )"
   ]
  },
  {
   "cell_type": "code",
   "execution_count": null,
   "metadata": {
    "id": "_5RVQ483DPxP"
   },
   "outputs": [],
   "source": [
    "chain = (\n",
    "            {\"text\": retriever, \"question\": RunnablePassthrough()}\n",
    "            | prompt\n",
    "            | llm\n",
    "            | StrOutputParser()\n",
    "    )\n"
   ]
  },
  {
   "cell_type": "code",
   "execution_count": null,
   "metadata": {
    "id": "W9HfsZV6ZrlA"
   },
   "outputs": [],
   "source": [
    "input = 'آرمین بدرخانی چه زمانی فارغ التحصیل می شود؟'"
   ]
  },
  {
   "cell_type": "code",
   "execution_count": null,
   "metadata": {
    "id": "W0WX1-iMZrob"
   },
   "outputs": [],
   "source": [
    "answer = chain.invoke(\n",
    "        {\n",
    "            \"question\": input\n",
    "        }\n",
    "    )"
   ]
  },
  {
   "cell_type": "code",
   "execution_count": null,
   "metadata": {
    "colab": {
     "base_uri": "https://localhost:8080/",
     "height": 122
    },
    "id": "7xmC8JhBZrrx",
    "outputId": "a8fc1b93-a8fe-4ed1-b876-a33b5c003e11"
   },
   "outputs": [
    {
     "data": {
      "application/vnd.google.colaboratory.intrinsic+json": {
       "type": "string"
      },
      "text/plain": [
       "'**پاسخ به سوال: آرمین بدرخانی چه زمانی فارغ التحصیل می شود؟**\\n==============================================================\\n\\nبا توجه به اطلاعات ارائه شده، آرمین بدرخانی معروف به بوفالو در سال 1400 کارشناسی ارشد خود را در رشته حسابداری شروع کرده است. با این وجود، پس از 4 سال از آغاز کارشناسی ارشد، هنوز فارغ التحصیل نشده است. با در نظر گرفتن اطلاعات موجود، نمی توان زمان دقیق فارغ التحصیلی آرمین بدرخانی را مشخص کرد.\\n\\nاکثر احتمال این است که فارغ التحصیلی آرمین بدرخانی به دلیل تنبلی او و کم مطالعه کردنش، با تاخیر همراه باشد. با توجه به اینکه در سال 1403 هنوز درس خود را تمام نکرده است، می توان گفت که زمان فارغ التحصیلی او دور از دسترس نیست. اما برای اینکه دقیقا مشخص شود که او چه زمانی فارغ التحصیل می شود، باید اطلاعات بیشتر و جدیدتری در دسترس باشد.\\n\\nماده منبع:\\nمتن ارائه شده در بالا.\\n\\nتوجه: این گزارش بر اساس اطلاعات ارائه شده تنظیم شده است و امکان دارد که اطلاعات جدیدتری در آینده در دسترس باشد که زمان فارغ التحصیلی آرمین بدرخانی را تغییر دهد.'"
      ]
     },
     "execution_count": 39,
     "metadata": {},
     "output_type": "execute_result"
    }
   ],
   "source": [
    "answer"
   ]
  },
  {
   "cell_type": "code",
   "execution_count": null,
   "metadata": {
    "id": "c0gFwnDqZruz"
   },
   "outputs": [],
   "source": [
    "input2 = 'شغل شایان محمدی چیست و چقدر حقوق می گیرد؟'"
   ]
  },
  {
   "cell_type": "code",
   "execution_count": null,
   "metadata": {
    "id": "cJmUUUd9ZryJ"
   },
   "outputs": [],
   "source": [
    "answer2 = chain.invoke(\n",
    "        {\n",
    "            \"question\": input2\n",
    "        }\n",
    "    )"
   ]
  },
  {
   "cell_type": "code",
   "execution_count": null,
   "metadata": {
    "colab": {
     "base_uri": "https://localhost:8080/",
     "height": 105
    },
    "id": "uzwpvQMiZr1f",
    "outputId": "10535432-b9e2-4f2a-adbc-7ec42d521e68"
   },
   "outputs": [
    {
     "data": {
      "application/vnd.google.colaboratory.intrinsic+json": {
       "type": "string"
      },
      "text/plain": [
       "'**گزارش در مورد شغل و حقوق شایان محمدی**\\n\\nشایان محمدی، معروف به کواال، با عنوان کارشناس تست در شرکت خدمات انفورماتیک مشغول به کار است. او به هیچ دردی نمی\\u200cخورد و فقط با صورت تخمی اش شهر را زشت کرده است. برجسته\\u200cترین ویژگی\\u200cهای او عبارت است از: تخمی بودن، عن بودن، کیری بودن و عمه جنده بودن و سیگاری بودن است.\\n\\n_rights او حدود 50 میلیون است و از بقیه دوستانش بیشتر حقوق می\\u200cگیرد._\\n\\nبر اساس اطلاعات موجود، شایان محمدی به عنوان کارشناس تست در شرکت خدمات انفورماتیک کار می\\u200cکند و حقوق ماهانه او در حدود 50 میلیون تومان است. وی هم چنین به دلیل تخمی بودن، عن بودن، کیری بودن و دیگر ویژگی\\u200cها معروف است.\\n\\n_منبع: اطلاعات فوق_\\n\\nدر نهایت، شایان محمدی کارشناس تست در شرکت خدمات انفورماتیک است و حقوق ماهانه او در حدود 50 میلیون تومان است.\\n\\n Không از هیچ مقاله یا منبع دیگری استفاده شده است. تنها بر اساس اطلاعات فوق گزارش تهیه شده است.'"
      ]
     },
     "execution_count": 48,
     "metadata": {},
     "output_type": "execute_result"
    }
   ],
   "source": [
    "answer2"
   ]
  },
  {
   "cell_type": "code",
   "execution_count": null,
   "metadata": {
    "id": "RhKtOsjGZr4F"
   },
   "outputs": [],
   "source": [
    "input3 = 'درخواست مرخصی استعلاجی چگونه است؟'"
   ]
  },
  {
   "cell_type": "code",
   "execution_count": null,
   "metadata": {
    "id": "pGPGlJTcZr7R"
   },
   "outputs": [],
   "source": [
    "answer3 = chain.invoke(\n",
    "        {\n",
    "            \"question\": input2\n",
    "        }\n",
    "    )"
   ]
  },
  {
   "cell_type": "code",
   "execution_count": null,
   "metadata": {
    "id": "vpWlgWj4Zr-R"
   },
   "outputs": [],
   "source": [
    "answer3"
   ]
  },
  {
   "cell_type": "code",
   "execution_count": null,
   "metadata": {
    "id": "4LCVAXBXDW0H"
   },
   "outputs": [],
   "source": [
    "# input1 = 'Has Amin Rabiei gone to the army?'"
   ]
  },
  {
   "cell_type": "code",
   "execution_count": null,
   "metadata": {
    "id": "7EtpgSxnFznu"
   },
   "outputs": [],
   "source": [
    "input2 = 'درخواست مرخصی استعلاجی چگونه است؟'"
   ]
  },
  {
   "cell_type": "code",
   "execution_count": null,
   "metadata": {
    "id": "_uFuU01aDZqX"
   },
   "outputs": [],
   "source": [
    "answer2 = chain.invoke(\n",
    "        {\n",
    "            \"question\": input2\n",
    "        }\n",
    "    )"
   ]
  },
  {
   "cell_type": "code",
   "execution_count": null,
   "metadata": {
    "colab": {
     "base_uri": "https://localhost:8080/",
     "height": 105
    },
    "id": "UJL5QGEODnF3",
    "outputId": "84a218c7-f04c-46d7-c832-8b9b9188df08"
   },
   "outputs": [
    {
     "data": {
      "application/vnd.google.colaboratory.intrinsic+json": {
       "type": "string"
      },
      "text/plain": [
       "' درخواست مرخصی استعلاجی چگونه است؟\\n=====================================\\n\\nبر اساس مقررات داخلي موننکو، در صورت بروز بيماري براي همکار، مي تواند تا سقف 6 روز از مرخصي استعلاجي با ارائه ويزيت پزشک و اعالم نياز به استراحت در آن و ارسال آن به امور کارکنان استفاده نمايد. حقوق بيماري تا سقف 6 روز توسط موننکو پرداخت مي گردد.\\n\\nبرای استفاده از مرخصي استعلاجي بيش از سقف اعلان شده، مي بايست مدارک مربوط به بيماري را در قسمت مربوطه سابت تامين اجتماعي بارگذاري گردد و پس از تاييد کميسيون پزشکي حقوق ايام بيماري را دريافت مي نمايند.\\n\\nبنابراين، درخواست مرخصي استعلاجي در موننکو طی دو مرحله صورت می\\u200cگیرد:\\n\\n1. ارائه ويزيت پزشک و اعالم نياز به استراحت در آن و ارسال آن به امور کارکنان براي استفاده از مرخصي استعلاجي تا سقف 6 روز.\\n2. در صورت نياز به مرخصي استعلاجي بيش از سقف اعلان شده، ارائه مدارک مربوط به بيماري در قسمت مربوطه سابت تامين اجتماعي و تاييد کميسيون پزشکي.\\n\\nمنابع:\\ntext provided'"
      ]
     },
     "execution_count": 53,
     "metadata": {},
     "output_type": "execute_result"
    }
   ],
   "source": [
    "answer2"
   ]
  },
  {
   "cell_type": "code",
   "execution_count": null,
   "metadata": {
    "id": "i-ORlsytS4WI"
   },
   "outputs": [],
   "source": [
    "input4 = 'مبلغ هزینه ایاب و ذهاب در موننکو چگونه است؟'"
   ]
  },
  {
   "cell_type": "code",
   "execution_count": null,
   "metadata": {
    "id": "G_fBvnQDGtEc"
   },
   "outputs": [],
   "source": [
    "answer4 = chain.invoke(\n",
    "        {\n",
    "            \"question\": input2\n",
    "        }\n",
    "    )"
   ]
  },
  {
   "cell_type": "code",
   "execution_count": null,
   "metadata": {
    "colab": {
     "base_uri": "https://localhost:8080/",
     "height": 105
    },
    "id": "Xm9aJTvyGuWp",
    "outputId": "2dcc84b3-155d-4420-a0e3-8d9f37c373c5"
   },
   "outputs": [
    {
     "data": {
      "application/vnd.google.colaboratory.intrinsic+json": {
       "type": "string"
      },
      "text/plain": [
       "'**مبلغ هزینه ایاب و ذهاب در موننکو**\\n=====================================\\n\\nبر اساس اطلاعات داده شده، مبلغ هزینه ایاب و ذهاب در موننکو براساس رده هاي سازماني مي باشد که مبناي آن رده هاي سازماني هستند. رده ها از کارمند تا مدير ارشد و مبالغ آن محرمانه مي باشد.\\n\\nبه عبارت ديگر، مبلغ هزینه ایاب و ذهاب در موننکو بستگی به پست سازمانی و رده سازمانی فرد دارد و این مبلغ برای هر فرد بر اساس رده و پست سازمانی او تعیین می شود. این مبلغ محرمانه بوده و تنها برای افرادی که در این رده و پست سازمانی قرار دارند، اعلام می شود.\\n\\nبنابراین، نمیتوان به طور کلی_AMOUNT هزینه ایاب و ذهاب در موننکو اعلام نمود بلکه این مبلغ بستگی به شرایط هر فرد دارد.\\n\\n**منابع**\\n------\\n\\n* متن اصلی شرکت موننکو\\n\\nتوجه: این گزارش بر اساس اطلاعات داده شده نوشته شده است و تنها بر اساس این اطلاعات نتیجه گیری می کند.'"
      ]
     },
     "execution_count": 57,
     "metadata": {},
     "output_type": "execute_result"
    }
   ],
   "source": [
    "answer4"
   ]
  },
  {
   "cell_type": "code",
   "execution_count": null,
   "metadata": {
    "colab": {
     "base_uri": "https://localhost:8080/",
     "height": 141
    },
    "id": "L1vbsQcFD_9w",
    "outputId": "c1b3e586-cf3c-40ca-c40d-bf22122899fc"
   },
   "outputs": [
    {
     "ename": "AttributeError",
     "evalue": "'FAISS' object has no attribute 'delete_collection'",
     "output_type": "error",
     "traceback": [
      "\u001b[0;31m---------------------------------------------------------------------------\u001b[0m",
      "\u001b[0;31mAttributeError\u001b[0m                            Traceback (most recent call last)",
      "\u001b[0;32m<ipython-input-24-07b326b1616c>\u001b[0m in \u001b[0;36m<cell line: 1>\u001b[0;34m()\u001b[0m\n\u001b[0;32m----> 1\u001b[0;31m \u001b[0mvector_db\u001b[0m\u001b[0;34m.\u001b[0m\u001b[0mdelete_collection\u001b[0m\u001b[0;34m(\u001b[0m\u001b[0;34m)\u001b[0m\u001b[0;34m\u001b[0m\u001b[0;34m\u001b[0m\u001b[0m\n\u001b[0m",
      "\u001b[0;31mAttributeError\u001b[0m: 'FAISS' object has no attribute 'delete_collection'"
     ]
    }
   ],
   "source": [
    "vector_db.delete_collection()"
   ]
  },
  {
   "cell_type": "code",
   "execution_count": null,
   "metadata": {
    "id": "n1tZVuM_D5sW"
   },
   "outputs": [],
   "source": [
    "input2 = input(\"ask\")"
   ]
  }
 ],
 "metadata": {
  "colab": {
   "provenance": []
  },
  "kernelspec": {
   "display_name": "Python 3 (ipykernel)",
   "language": "python",
   "name": "python3"
  },
  "language_info": {
   "codemirror_mode": {
    "name": "ipython",
    "version": 3
   },
   "file_extension": ".py",
   "mimetype": "text/x-python",
   "name": "python",
   "nbconvert_exporter": "python",
   "pygments_lexer": "ipython3",
   "version": "3.11.5"
  }
 },
 "nbformat": 4,
 "nbformat_minor": 1
}
